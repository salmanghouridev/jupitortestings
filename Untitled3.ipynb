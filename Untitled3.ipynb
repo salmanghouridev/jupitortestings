{
 "cells": [
  {
   "cell_type": "code",
   "execution_count": 1,
   "id": "ec4fad1c-f7e3-4ae0-9c21-2438afaf6db5",
   "metadata": {
    "tags": []
   },
   "outputs": [
    {
     "name": "stdout",
     "output_type": "stream",
     "text": [
      "          Method Training MSE Training R2  Test MSE Test R2\n",
      "0  Decision Tree          0.0         1.0  0.033856     NaN\n",
      "1  Random Forest     0.119277     0.81539  0.060627     NaN\n"
     ]
    },
    {
     "name": "stderr",
     "output_type": "stream",
     "text": [
      "/home/codespace/.local/lib/python3.10/site-packages/sklearn/metrics/_regression.py:918: UndefinedMetricWarning: R^2 score is not well-defined with less than two samples.\n",
      "  warnings.warn(msg, UndefinedMetricWarning)\n",
      "/home/codespace/.local/lib/python3.10/site-packages/sklearn/metrics/_regression.py:918: UndefinedMetricWarning: R^2 score is not well-defined with less than two samples.\n",
      "  warnings.warn(msg, UndefinedMetricWarning)\n"
     ]
    }
   ],
   "source": [
    "import pandas as pd\n",
    "from sklearn.model_selection import train_test_split\n",
    "from sklearn.tree import DecisionTreeRegressor\n",
    "from sklearn.ensemble import RandomForestRegressor\n",
    "from sklearn.metrics import mean_squared_error, r2_score\n",
    "\n",
    "# Data loading\n",
    "diabetes = pd.read_csv(\"diabetes_dataset.csv\")\n",
    "\n",
    "# Data separation as X and Y\n",
    "y = diabetes[\"DiabetesPedigreeFunction\"]\n",
    "x = diabetes.drop('DiabetesPedigreeFunction', axis=1)\n",
    "\n",
    "# Splitting data into training and testing sets\n",
    "X_train, X_test, Y_train, Y_test = train_test_split(x, y, test_size=0.2, random_state=42)\n",
    "\n",
    "# Model Building - Decision Tree\n",
    "decision_tree_model = DecisionTreeRegressor()\n",
    "decision_tree_model.fit(X_train, Y_train)\n",
    "\n",
    "# Checking the performance of the model on the training set\n",
    "y_model_train_pred = decision_tree_model.predict(X_train)\n",
    "y_model_test_pred = decision_tree_model.predict(X_test)\n",
    "\n",
    "# Evaluate model performance for Decision Tree\n",
    "model_train_mse = mean_squared_error(Y_train, y_model_train_pred)\n",
    "model_train_r2 = r2_score(Y_train, y_model_train_pred)\n",
    "model_test_mse = mean_squared_error(Y_test, y_model_test_pred)\n",
    "model_test_r2 = r2_score(Y_test, y_model_test_pred)\n",
    "\n",
    "# Model Building - Random Forest\n",
    "random_forest_model = RandomForestRegressor(max_depth=2, random_state=100)\n",
    "random_forest_model.fit(X_train, Y_train)\n",
    "\n",
    "# Applying the model to make predictions\n",
    "y_rf_train_pred = random_forest_model.predict(X_train)\n",
    "y_rf_test_pred = random_forest_model.predict(X_test)\n",
    "\n",
    "# Evaluate model performance for Random Forest\n",
    "rf_train_mse = mean_squared_error(Y_train, y_rf_train_pred)\n",
    "rf_train_r2 = r2_score(Y_train, y_rf_train_pred)\n",
    "rf_test_mse = mean_squared_error(Y_test, y_rf_test_pred)\n",
    "rf_test_r2 = r2_score(Y_test, y_rf_test_pred)\n",
    "\n",
    "# Model Comparison\n",
    "decision_tree_results = pd.DataFrame(['Decision Tree', model_train_mse, model_train_r2, model_test_mse, model_test_r2]).transpose()\n",
    "decision_tree_results.columns = ['Method', 'Training MSE', 'Training R2', 'Test MSE', 'Test R2']\n",
    "\n",
    "random_forest_results = pd.DataFrame(['Random Forest', rf_train_mse, rf_train_r2, rf_test_mse, rf_test_r2]).transpose()\n",
    "random_forest_results.columns = ['Method', 'Training MSE', 'Training R2', 'Test MSE', 'Test R2']\n",
    "\n",
    "model_comparison = pd.concat([decision_tree_results, random_forest_results], axis=0).reset_index(drop=True)\n",
    "\n",
    "# Print the model comparison results\n",
    "print(model_comparison)\n"
   ]
  },
  {
   "cell_type": "code",
   "execution_count": null,
   "id": "57844b55-b206-4ec2-9bd8-bb1e73534d9c",
   "metadata": {},
   "outputs": [],
   "source": []
  }
 ],
 "metadata": {
  "kernelspec": {
   "display_name": "Python 3 (ipykernel)",
   "language": "python",
   "name": "python3"
  },
  "language_info": {
   "codemirror_mode": {
    "name": "ipython",
    "version": 3
   },
   "file_extension": ".py",
   "mimetype": "text/x-python",
   "name": "python",
   "nbconvert_exporter": "python",
   "pygments_lexer": "ipython3",
   "version": "3.10.4"
  }
 },
 "nbformat": 4,
 "nbformat_minor": 5
}
