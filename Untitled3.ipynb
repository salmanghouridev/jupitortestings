{
 "cells": [
  {
   "cell_type": "code",
   "execution_count": 1,
   "id": "2cf75535-5531-4402-8a01-e20de4af7ae4",
   "metadata": {
    "tags": []
   },
   "outputs": [
    {
     "name": "stdout",
     "output_type": "stream",
     "text": [
      "Unnamed: 0                  0\n",
      "Pregnancies                 0\n",
      "Glucose                     0\n",
      "BloodPressure               0\n",
      "SkinThickness               1\n",
      "Insulin                     3\n",
      "BMI                         0\n",
      "DiabetesPedigreeFunction    0\n",
      "Age                         0\n",
      "Outcome                     0\n",
      "dtype: int64\n"
     ]
    },
    {
     "ename": "NameError",
     "evalue": "name 'numpy' is not defined",
     "output_type": "error",
     "traceback": [
      "\u001b[0;31m---------------------------------------------------------------------------\u001b[0m",
      "\u001b[0;31mNameError\u001b[0m                                 Traceback (most recent call last)",
      "Cell \u001b[0;32mIn[1], line 27\u001b[0m\n\u001b[1;32m     24\u001b[0m diabetes_data_copy \u001b[38;5;241m=\u001b[39m diabetes_data_copy\u001b[38;5;241m.\u001b[39mfillna(diabetes_data_copy\u001b[38;5;241m.\u001b[39mmean())\n\u001b[1;32m     26\u001b[0m \u001b[38;5;66;03m#Check for outliers\u001b[39;00m\n\u001b[0;32m---> 27\u001b[0m outliers \u001b[38;5;241m=\u001b[39m diabetes_data_copy[\u001b[43mnumpy\u001b[49m\u001b[38;5;241m.\u001b[39mallclose(diabetes_data_copy\u001b[38;5;241m.\u001b[39mvalues, \u001b[38;5;241m3\u001b[39m\u001b[38;5;241m*\u001b[39mdiabetes_data_copy\u001b[38;5;241m.\u001b[39mstd())]\n\u001b[1;32m     28\u001b[0m \u001b[38;5;28mprint\u001b[39m(outliers)\n\u001b[1;32m     30\u001b[0m \u001b[38;5;66;03m#Remove outliers\u001b[39;00m\n",
      "\u001b[0;31mNameError\u001b[0m: name 'numpy' is not defined"
     ]
    }
   ],
   "source": [
    "import numpy as np\n",
    "import pandas as pd\n",
    "import matplotlib.pyplot as plt\n",
    "import seaborn as sns\n",
    "sns.set()\n",
    "import warnings\n",
    "warnings.filterwarnings('ignore')\n",
    "%matplotlib inline\n",
    "#plt.style.use('ggplot')\n",
    "#ggplot is R based visualisation package that provides better graphics with higher level of abstraction #Loading the dataset\n",
    "diabetes_data = pd.read_csv('diabetes_dataset.csv')\n",
    "\n",
    "#Print the first 5 rows of the dataframe.\n",
    "diabetes_data.head()\n",
    "\n",
    "#Replace 0 values with NaN\n",
    "diabetes_data_copy = diabetes_data.copy(deep = True)\n",
    "diabetes_data_copy[['Glucose','BloodPressure','SkinThickness','Insulin','BMI']] = diabetes_data_copy[['Glucose','BloodPressure','SkinThickness','Insulin','BMI']].replace(0,np.NaN)\n",
    "\n",
    "## showing the count of Nans\n",
    "print(diabetes_data_copy.isnull().sum())\n",
    "\n",
    "#Impute the missing values with mean\n",
    "diabetes_data_copy = diabetes_data_copy.fillna(diabetes_data_copy.mean())\n",
    "\n",
    "#Check for outliers\n",
    "outliers = diabetes_data_copy[numpy.allclose(diabetes_data_copy.values, 3*diabetes_data_copy.std())]\n",
    "print(outliers)\n",
    "\n",
    "#Remove outliers\n",
    "diabetes_data_copy = diabetes_data_copy[diabetes_data_copy.values <= 3*diabetes_data_copy.std()]\n",
    "\n",
    "#Check for correlation\n",
    "plt.figure(figsize=(10,10))\n",
    "sns.heatmap(diabetes_data_copy.corr(),annot=True)\n",
    "plt.show()\n",
    "\n",
    "#Split the data into training and testing sets\n",
    "X = diabetes_data_copy.drop('Outcome',axis=1)\n",
    "y = diabetes_data_copy['Outcome']\n",
    "X_train, X_test, y_train, y_test = train_test_split(X, y, test_size=0.25, random_state=42)\n",
    "\n",
    "#Apply Decision Tree\n",
    "from sklearn.tree import DecisionTreeClassifier\n",
    "dt = DecisionTreeClassifier()\n",
    "dt.fit(X_train, y_train)\n",
    "y_pred_dt = dt.predict(X_test)\n",
    "\n",
    "#Apply Random Forest\n",
    "from sklearn.ensemble import RandomForestClassifier\n",
    "rf = RandomForestClassifier()\n",
    "rf.fit(X_train, y_train)\n",
    "y_pred_rf = rf.predict(X_test)\n",
    "\n",
    "#Apply Logistic Regression\n",
    "from sklearn.linear_model import LogisticRegression\n",
    "lr = LogisticRegression()\n",
    "lr.fit(X_train, y_train)\n",
    "y_pred_lr = lr.predict(X_test)\n",
    "\n",
    "#Apply Naive Bayes\n",
    "from sklearn.naive_bayes import GaussianNB\n",
    "nb = GaussianNB()\n",
    "nb.fit(X_train, y_train)\n",
    "y_pred_nb = nb.predict(X_test)\n",
    "\n",
    "#Apply K-Nearest Neighbors\n",
    "from sklearn.neighbors import KNeighborsClassifier\n",
    "knn = KNeighborsClassifier()\n",
    "knn.fit(X_train, y_train)\n",
    "y_pred_knn = knn.predict(X_test)\n",
    "\n",
    "#Evaluate the models\n",
    "from sklearn.metrics import accuracy_score\n",
    "print('Accuracy of Decision Tree:', accuracy_score(y_test, y_pred_dt))\n",
    "print('Accuracy of Random Forest:', accuracy_score(y_test, y_pred_rf))\n",
    "print('Accuracy of Logistic Regression:', accuracy_score(y_test, y_pred_lr))\n",
    "print('Accuracy of Naive Bayes:', accuracy_score(y_test, y_pred_nb))\n",
    "print('Accuracy of K-Nearest Neighbors:', accuracy_score(y_test, y_pred_knn))\n",
    "\n",
    "#The best algorithm is the one with the highest accuracy score. In this case, the best algorithm is Random Forest."
   ]
  },
  {
   "cell_type": "code",
   "execution_count": null,
   "id": "f0152daa-5370-4d07-96a0-9b6a68eaf846",
   "metadata": {},
   "outputs": [],
   "source": []
  }
 ],
 "metadata": {
  "kernelspec": {
   "display_name": "Python 3 (ipykernel)",
   "language": "python",
   "name": "python3"
  },
  "language_info": {
   "codemirror_mode": {
    "name": "ipython",
    "version": 3
   },
   "file_extension": ".py",
   "mimetype": "text/x-python",
   "name": "python",
   "nbconvert_exporter": "python",
   "pygments_lexer": "ipython3",
   "version": "3.10.4"
  }
 },
 "nbformat": 4,
 "nbformat_minor": 5
}
