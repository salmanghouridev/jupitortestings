{
 "cells": [
  {
   "cell_type": "code",
   "execution_count": 1,
   "id": "b51c3265-3bef-4724-acd4-9982aca2af75",
   "metadata": {
    "tags": []
   },
   "outputs": [
    {
     "name": "stdout",
     "output_type": "stream",
     "text": [
      "Dataset ID: diabetes_dataset\n",
      "No. of Features: 10\n",
      "Number of Instances: 5\n",
      "Missing Values: 0\n",
      "Outliers detected at indices: [0, 4, 2, 4, 0, 3]\n",
      "          Method Training MSE Training R2  Test MSE Test R2\n",
      "0  Decision Tree          0.0         1.0  0.076176     NaN\n",
      "1  Random Forest     0.119277     0.81539  0.060627     NaN\n"
     ]
    },
    {
     "name": "stderr",
     "output_type": "stream",
     "text": [
      "/home/codespace/.local/lib/python3.10/site-packages/sklearn/metrics/_regression.py:918: UndefinedMetricWarning: R^2 score is not well-defined with less than two samples.\n",
      "  warnings.warn(msg, UndefinedMetricWarning)\n",
      "/home/codespace/.local/lib/python3.10/site-packages/sklearn/metrics/_regression.py:918: UndefinedMetricWarning: R^2 score is not well-defined with less than two samples.\n",
      "  warnings.warn(msg, UndefinedMetricWarning)\n"
     ]
    }
   ],
   "source": [
    "import pandas as pd\n",
    "from sklearn.model_selection import train_test_split\n",
    "from sklearn.tree import DecisionTreeRegressor\n",
    "from sklearn.ensemble import RandomForestRegressor\n",
    "from sklearn.metrics import mean_squared_error, r2_score\n",
    "import numpy as np\n",
    "\n",
    "# Data loading\n",
    "diabetes = pd.read_csv(\"diabetes_dataset.csv\")\n",
    "\n",
    "# Get dataset information\n",
    "dataset_id = \"Dataset ID: diabetes_dataset\"\n",
    "num_features = \"No. of Features: {}\".format(len(diabetes.columns))\n",
    "num_instances = \"Number of Instances: {}\".format(len(diabetes))\n",
    "missing_values = \"Missing Values: {}\".format(diabetes.isnull().sum().sum())\n",
    "\n",
    "# Outlier detection using IQR method\n",
    "outliers = []\n",
    "for column in diabetes.columns:\n",
    "    Q1 = diabetes[column].quantile(0.25)\n",
    "    Q3 = diabetes[column].quantile(0.75)\n",
    "    IQR = Q3 - Q1\n",
    "    lower_bound = Q1 - 1.5 * IQR\n",
    "    upper_bound = Q3 + 1.5 * IQR\n",
    "    column_outliers = diabetes[(diabetes[column] < lower_bound) | (diabetes[column] > upper_bound)].index.tolist()\n",
    "    outliers.extend(column_outliers)\n",
    "\n",
    "if len(outliers) > 0:\n",
    "    outliers_text = \"Outliers detected at indices: {}\".format(outliers)\n",
    "else:\n",
    "    outliers_text = \"No outliers detected\"\n",
    "\n",
    "# Display dataset information\n",
    "print(dataset_id)\n",
    "print(num_features)\n",
    "print(num_instances)\n",
    "print(missing_values)\n",
    "print(outliers_text)\n",
    "\n",
    "# Data separation as X and Y\n",
    "y = diabetes[\"DiabetesPedigreeFunction\"]\n",
    "x = diabetes.drop('DiabetesPedigreeFunction', axis=1)\n",
    "\n",
    "# Splitting data into training and testing sets\n",
    "X_train, X_test, Y_train, Y_test = train_test_split(x, y, test_size=0.2, random_state=42)\n",
    "\n",
    "# Model Building - Decision Tree\n",
    "decision_tree_model = DecisionTreeRegressor()\n",
    "decision_tree_model.fit(X_train, Y_train)\n",
    "\n",
    "# Checking the performance of the model on the training set\n",
    "y_model_train_pred = decision_tree_model.predict(X_train)\n",
    "y_model_test_pred = decision_tree_model.predict(X_test)\n",
    "\n",
    "# Evaluate model performance for Decision Tree\n",
    "model_train_mse = mean_squared_error(Y_train, y_model_train_pred)\n",
    "model_train_r2 = r2_score(Y_train, y_model_train_pred)\n",
    "model_test_mse = mean_squared_error(Y_test, y_model_test_pred)\n",
    "model_test_r2 = r2_score(Y_test, y_model_test_pred)\n",
    "\n",
    "# Model Building - Random Forest\n",
    "random_forest_model = RandomForestRegressor(max_depth=2, random_state=100)\n",
    "random_forest_model.fit(X_train, Y_train)\n",
    "\n",
    "# Applying the model to make predictions\n",
    "y_rf_train_pred = random_forest_model.predict(X_train)\n",
    "y_rf_test_pred = random_forest_model.predict(X_test)\n",
    "\n",
    "# Evaluate model performance for Random Forest\n",
    "rf_train_mse = mean_squared_error(Y_train, y_rf_train_pred)\n",
    "rf_train_r2 = r2_score(Y_train, y_rf_train_pred)\n",
    "rf_test_mse = mean_squared_error(Y_test, y_rf_test_pred)\n",
    "rf_test_r2 = r2_score(Y_test, y_rf_test_pred)\n",
    "\n",
    "# Model Comparison\n",
    "decision_tree_results = pd.DataFrame(['Decision Tree', model_train_mse, model_train_r2, model_test_mse, model_test_r2]).transpose()\n",
    "decision_tree_results.columns = ['Method', 'Training MSE', 'Training R2', 'Test MSE', 'Test R2']\n",
    "\n",
    "random_forest_results = pd.DataFrame(['Random Forest', rf_train_mse, rf_train_r2, rf_test_mse, rf_test_r2]).transpose()\n",
    "random_forest_results.columns = ['Method', 'Training MSE', 'Training R2', 'Test MSE', 'Test R2']\n",
    "\n",
    "model_comparison = pd.concat([decision_tree_results, random_forest_results], axis=0).reset_index(drop=True)\n",
    "\n",
    "# Print the model comparison results\n",
    "print(model_comparison)\n"
   ]
  },
  {
   "cell_type": "code",
   "execution_count": null,
   "id": "4cb2537e-0852-4839-a1d4-95b843aec630",
   "metadata": {},
   "outputs": [],
   "source": []
  }
 ],
 "metadata": {
  "kernelspec": {
   "display_name": "Python 3 (ipykernel)",
   "language": "python",
   "name": "python3"
  },
  "language_info": {
   "codemirror_mode": {
    "name": "ipython",
    "version": 3
   },
   "file_extension": ".py",
   "mimetype": "text/x-python",
   "name": "python",
   "nbconvert_exporter": "python",
   "pygments_lexer": "ipython3",
   "version": "3.10.4"
  }
 },
 "nbformat": 4,
 "nbformat_minor": 5
}
